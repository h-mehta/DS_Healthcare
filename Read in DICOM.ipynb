{
 "cells": [
  {
   "cell_type": "code",
   "execution_count": 1,
   "id": "85fa9d57",
   "metadata": {
    "scrolled": true
   },
   "outputs": [
    {
     "name": "stdout",
     "output_type": "stream",
     "text": [
      "Error processing line 1 of /Users/harshit/opt/anaconda3/lib/python3.8/site-packages/vision-1.0.0-py3.8-nspkg.pth:\n",
      "\n",
      "  Traceback (most recent call last):\n",
      "    File \"/Users/harshit/opt/anaconda3/lib/python3.8/site.py\", line 169, in addpackage\n",
      "      exec(line)\n",
      "    File \"<string>\", line 1, in <module>\n",
      "    File \"<frozen importlib._bootstrap>\", line 553, in module_from_spec\n",
      "  AttributeError: 'NoneType' object has no attribute 'loader'\n",
      "\n",
      "Remainder of file ignored\n",
      "Requirement already satisfied: pydicom in /Users/harshit/opt/anaconda3/lib/python3.8/site-packages (2.3.1)\n"
     ]
    }
   ],
   "source": [
    "!pip install pydicom"
   ]
  },
  {
   "cell_type": "code",
   "execution_count": 2,
   "id": "f87dd63b",
   "metadata": {},
   "outputs": [
    {
     "name": "stdout",
     "output_type": "stream",
     "text": [
      "Error processing line 1 of /Users/harshit/opt/anaconda3/lib/python3.8/site-packages/vision-1.0.0-py3.8-nspkg.pth:\n",
      "\n",
      "  Traceback (most recent call last):\n",
      "    File \"/Users/harshit/opt/anaconda3/lib/python3.8/site.py\", line 169, in addpackage\n",
      "      exec(line)\n",
      "    File \"<string>\", line 1, in <module>\n",
      "    File \"<frozen importlib._bootstrap>\", line 553, in module_from_spec\n",
      "  AttributeError: 'NoneType' object has no attribute 'loader'\n",
      "\n",
      "Remainder of file ignored\n",
      "Requirement already satisfied: python-gdcm in /Users/harshit/opt/anaconda3/lib/python3.8/site-packages (3.0.21)\n",
      "Note: you may need to restart the kernel to use updated packages.\n"
     ]
    }
   ],
   "source": [
    "pip install python-gdcm"
   ]
  },
  {
   "cell_type": "code",
   "execution_count": 3,
   "id": "75d58f94",
   "metadata": {
    "scrolled": true
   },
   "outputs": [
    {
     "name": "stdout",
     "output_type": "stream",
     "text": [
      "Error processing line 1 of /Users/harshit/opt/anaconda3/lib/python3.8/site-packages/vision-1.0.0-py3.8-nspkg.pth:\n",
      "\n",
      "  Traceback (most recent call last):\n",
      "    File \"/Users/harshit/opt/anaconda3/lib/python3.8/site.py\", line 169, in addpackage\n",
      "      exec(line)\n",
      "    File \"<string>\", line 1, in <module>\n",
      "    File \"<frozen importlib._bootstrap>\", line 553, in module_from_spec\n",
      "  AttributeError: 'NoneType' object has no attribute 'loader'\n",
      "\n",
      "Remainder of file ignored\n",
      "Requirement already satisfied: pylibjpeg in /Users/harshit/opt/anaconda3/lib/python3.8/site-packages (1.4.0)\n",
      "Requirement already satisfied: numpy in /Users/harshit/opt/anaconda3/lib/python3.8/site-packages (from pylibjpeg) (1.19.5)\n"
     ]
    }
   ],
   "source": [
    "!pip install -U pylibjpeg"
   ]
  },
  {
   "cell_type": "code",
   "execution_count": 11,
   "id": "9123b95f",
   "metadata": {},
   "outputs": [
    {
     "name": "stdout",
     "output_type": "stream",
     "text": [
      "Patient name:  CHITRANJAN  46/M\n",
      "Patient ID:  .5218\n",
      "Study description:  Head^SH_HeadRoutine_P_C (Adult)\n"
     ]
    },
    {
     "data": {
      "image/png": "[encoded data removed]",
      "text/plain": [
       "<Figure size 432x288 with 1 Axes>"
      ]
     },
     "metadata": {
      "needs_background": "light"
     },
     "output_type": "display_data"
    }
   ],
   "source": [
    "import pydicom\n",
    "\n",
    "# Load the DICOM file\n",
    "dcm = pydicom.dcmread('IMG-0001-00001.dcm')\n",
    "\n",
    "# Access metadata\n",
    "print('Patient name: ', dcm.PatientName)\n",
    "print('Patient ID: ', dcm.PatientID)\n",
    "print('Study description: ', dcm.StudyDescription)\n",
    "\n",
    "# Access image data\n",
    "image = dcm.pixel_array\n",
    "\n",
    "# Display image\n",
    "import matplotlib.pyplot as plt\n",
    "plt.imshow(image, cmap=plt.cm.gray)\n",
    "plt.show()"
   ]
  },
  {
   "cell_type": "code",
   "execution_count": null,
   "id": "11514f98",
   "metadata": {},
   "outputs": [],
   "source": []
  }
 ],
 "metadata": {
  "kernelspec": {
   "display_name": "Python 3",
   "language": "python",
   "name": "python3"
  },
  "language_info": {
   "codemirror_mode": {
    "name": "ipython",
    "version": 3
   },
   "file_extension": ".py",
   "mimetype": "text/x-python",
   "name": "python",
   "nbconvert_exporter": "python",
   "pygments_lexer": "ipython3",
   "version": "3.8.8"
  }
 },
 "nbformat": 4,
 "nbformat_minor": 5
}
